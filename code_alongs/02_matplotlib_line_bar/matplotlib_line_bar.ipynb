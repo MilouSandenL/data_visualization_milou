{
 "cells": [
  {
   "cell_type": "code",
   "execution_count": 2,
   "id": "3c294298",
   "metadata": {},
   "outputs": [
    {
     "data": {
      "text/html": [
       "<div>\n",
       "<style scoped>\n",
       "    .dataframe tbody tr th:only-of-type {\n",
       "        vertical-align: middle;\n",
       "    }\n",
       "\n",
       "    .dataframe tbody tr th {\n",
       "        vertical-align: top;\n",
       "    }\n",
       "\n",
       "    .dataframe thead th {\n",
       "        text-align: right;\n",
       "    }\n",
       "</style>\n",
       "<table border=\"1\" class=\"dataframe\">\n",
       "  <thead>\n",
       "    <tr style=\"text-align: right;\">\n",
       "      <th></th>\n",
       "      <th>Year</th>\n",
       "      <th>Month</th>\n",
       "      <th>Make</th>\n",
       "      <th>Quantity</th>\n",
       "      <th>Pct</th>\n",
       "    </tr>\n",
       "  </thead>\n",
       "  <tbody>\n",
       "    <tr>\n",
       "      <th>0</th>\n",
       "      <td>2007</td>\n",
       "      <td>1</td>\n",
       "      <td>Toyota</td>\n",
       "      <td>2884</td>\n",
       "      <td>22.7</td>\n",
       "    </tr>\n",
       "    <tr>\n",
       "      <th>1</th>\n",
       "      <td>2007</td>\n",
       "      <td>1</td>\n",
       "      <td>Volkswagen</td>\n",
       "      <td>2521</td>\n",
       "      <td>19.9</td>\n",
       "    </tr>\n",
       "    <tr>\n",
       "      <th>2</th>\n",
       "      <td>2007</td>\n",
       "      <td>1</td>\n",
       "      <td>Peugeot</td>\n",
       "      <td>1029</td>\n",
       "      <td>8.1</td>\n",
       "    </tr>\n",
       "    <tr>\n",
       "      <th>3</th>\n",
       "      <td>2007</td>\n",
       "      <td>1</td>\n",
       "      <td>Ford</td>\n",
       "      <td>870</td>\n",
       "      <td>6.9</td>\n",
       "    </tr>\n",
       "    <tr>\n",
       "      <th>4</th>\n",
       "      <td>2007</td>\n",
       "      <td>1</td>\n",
       "      <td>Volvo</td>\n",
       "      <td>693</td>\n",
       "      <td>5.5</td>\n",
       "    </tr>\n",
       "  </tbody>\n",
       "</table>\n",
       "</div>"
      ],
      "text/plain": [
       "   Year  Month        Make  Quantity   Pct\n",
       "0  2007      1      Toyota      2884  22.7\n",
       "1  2007      1  Volkswagen      2521  19.9\n",
       "2  2007      1     Peugeot      1029   8.1\n",
       "3  2007      1        Ford       870   6.9\n",
       "4  2007      1       Volvo       693   5.5"
      ]
     },
     "execution_count": 2,
     "metadata": {},
     "output_type": "execute_result"
    }
   ],
   "source": [
    "import pandas as pd\n",
    "import duckdb\n",
    "\n",
    "df = pd.read_csv(\"data/norway_new_car_sales_by_make.csv\")\n",
    "df.head()\n"
   ]
  },
  {
   "cell_type": "markdown",
   "id": "eccfa09e",
   "metadata": {},
   "source": [
    "## EDA- Exploratory"
   ]
  },
  {
   "cell_type": "code",
   "execution_count": 4,
   "id": "1dfc046d",
   "metadata": {},
   "outputs": [
    {
     "data": {
      "text/html": [
       "<div>\n",
       "<style scoped>\n",
       "    .dataframe tbody tr th:only-of-type {\n",
       "        vertical-align: middle;\n",
       "    }\n",
       "\n",
       "    .dataframe tbody tr th {\n",
       "        vertical-align: top;\n",
       "    }\n",
       "\n",
       "    .dataframe thead th {\n",
       "        text-align: right;\n",
       "    }\n",
       "</style>\n",
       "<table border=\"1\" class=\"dataframe\">\n",
       "  <thead>\n",
       "    <tr style=\"text-align: right;\">\n",
       "      <th></th>\n",
       "      <th>Make</th>\n",
       "      <th>Quantity</th>\n",
       "    </tr>\n",
       "  </thead>\n",
       "  <tbody>\n",
       "    <tr>\n",
       "      <th>0</th>\n",
       "      <td>Volkswagen</td>\n",
       "      <td>206669.0</td>\n",
       "    </tr>\n",
       "    <tr>\n",
       "      <th>1</th>\n",
       "      <td>Toyota</td>\n",
       "      <td>168177.0</td>\n",
       "    </tr>\n",
       "    <tr>\n",
       "      <th>2</th>\n",
       "      <td>Volvo</td>\n",
       "      <td>99937.0</td>\n",
       "    </tr>\n",
       "    <tr>\n",
       "      <th>3</th>\n",
       "      <td>Ford</td>\n",
       "      <td>99713.0</td>\n",
       "    </tr>\n",
       "    <tr>\n",
       "      <th>4</th>\n",
       "      <td>BMW</td>\n",
       "      <td>73315.0</td>\n",
       "    </tr>\n",
       "  </tbody>\n",
       "</table>\n",
       "</div>"
      ],
      "text/plain": [
       "         Make  Quantity\n",
       "0  Volkswagen  206669.0\n",
       "1      Toyota  168177.0\n",
       "2       Volvo   99937.0\n",
       "3        Ford   99713.0\n",
       "4         BMW   73315.0"
      ]
     },
     "execution_count": 4,
     "metadata": {},
     "output_type": "execute_result"
    }
   ],
   "source": [
    "df_quantity_make = duckdb.query(\n",
    "    \"\"\"\n",
    "             SELECT make, SUM(quantity) as Quantity \n",
    "             FROM df \n",
    "             GROUP BY make \n",
    "             ORDER BY quantity DESC\"\"\"\n",
    ").df()\n",
    "\n",
    "df_quantity_make.head()"
   ]
  },
  {
   "cell_type": "code",
   "execution_count": 5,
   "id": "eaf9a4af",
   "metadata": {},
   "outputs": [
    {
     "name": "stdout",
     "output_type": "stream",
     "text": [
      "<class 'pandas.core.frame.DataFrame'>\n",
      "RangeIndex: 66 entries, 0 to 65\n",
      "Data columns (total 2 columns):\n",
      " #   Column    Non-Null Count  Dtype  \n",
      "---  ------    --------------  -----  \n",
      " 0   Make      65 non-null     object \n",
      " 1   Quantity  66 non-null     float64\n",
      "dtypes: float64(1), object(1)\n",
      "memory usage: 1.2+ KB\n"
     ]
    }
   ],
   "source": [
    "df_quantity_make.info()"
   ]
  },
  {
   "cell_type": "code",
   "execution_count": 6,
   "id": "4e260473",
   "metadata": {},
   "outputs": [
    {
     "data": {
      "text/plain": [
       "array([2007, 2008, 2009, 2010, 2011, 2012, 2013, 2014, 2015, 2016, 2017])"
      ]
     },
     "execution_count": 6,
     "metadata": {},
     "output_type": "execute_result"
    }
   ],
   "source": [
    "df[\"Year\"].unique()"
   ]
  },
  {
   "cell_type": "code",
   "execution_count": 7,
   "id": "449a1fcd",
   "metadata": {},
   "outputs": [
    {
     "data": {
      "text/html": [
       "<div>\n",
       "<style scoped>\n",
       "    .dataframe tbody tr th:only-of-type {\n",
       "        vertical-align: middle;\n",
       "    }\n",
       "\n",
       "    .dataframe tbody tr th {\n",
       "        vertical-align: top;\n",
       "    }\n",
       "\n",
       "    .dataframe thead th {\n",
       "        text-align: right;\n",
       "    }\n",
       "</style>\n",
       "<table border=\"1\" class=\"dataframe\">\n",
       "  <thead>\n",
       "    <tr style=\"text-align: right;\">\n",
       "      <th></th>\n",
       "      <th>Year</th>\n",
       "      <th>Month</th>\n",
       "      <th>Make</th>\n",
       "      <th>Quantity</th>\n",
       "      <th>Pct</th>\n",
       "    </tr>\n",
       "  </thead>\n",
       "  <tbody>\n",
       "    <tr>\n",
       "      <th>0</th>\n",
       "      <td>2007</td>\n",
       "      <td>1</td>\n",
       "      <td>Toyota</td>\n",
       "      <td>2884</td>\n",
       "      <td>22.7</td>\n",
       "    </tr>\n",
       "    <tr>\n",
       "      <th>1</th>\n",
       "      <td>2007</td>\n",
       "      <td>1</td>\n",
       "      <td>Volkswagen</td>\n",
       "      <td>2521</td>\n",
       "      <td>19.9</td>\n",
       "    </tr>\n",
       "    <tr>\n",
       "      <th>2</th>\n",
       "      <td>2007</td>\n",
       "      <td>1</td>\n",
       "      <td>Peugeot</td>\n",
       "      <td>1029</td>\n",
       "      <td>8.1</td>\n",
       "    </tr>\n",
       "    <tr>\n",
       "      <th>3</th>\n",
       "      <td>2007</td>\n",
       "      <td>1</td>\n",
       "      <td>Ford</td>\n",
       "      <td>870</td>\n",
       "      <td>6.9</td>\n",
       "    </tr>\n",
       "    <tr>\n",
       "      <th>4</th>\n",
       "      <td>2007</td>\n",
       "      <td>1</td>\n",
       "      <td>Volvo</td>\n",
       "      <td>693</td>\n",
       "      <td>5.5</td>\n",
       "    </tr>\n",
       "    <tr>\n",
       "      <th>5</th>\n",
       "      <td>2007</td>\n",
       "      <td>1</td>\n",
       "      <td>Skoda</td>\n",
       "      <td>665</td>\n",
       "      <td>5.2</td>\n",
       "    </tr>\n",
       "    <tr>\n",
       "      <th>6</th>\n",
       "      <td>2007</td>\n",
       "      <td>1</td>\n",
       "      <td>Opel</td>\n",
       "      <td>622</td>\n",
       "      <td>4.9</td>\n",
       "    </tr>\n",
       "    <tr>\n",
       "      <th>7</th>\n",
       "      <td>2007</td>\n",
       "      <td>1</td>\n",
       "      <td>Audi</td>\n",
       "      <td>599</td>\n",
       "      <td>4.7</td>\n",
       "    </tr>\n",
       "    <tr>\n",
       "      <th>8</th>\n",
       "      <td>2007</td>\n",
       "      <td>1</td>\n",
       "      <td>Honda</td>\n",
       "      <td>423</td>\n",
       "      <td>3.3</td>\n",
       "    </tr>\n",
       "    <tr>\n",
       "      <th>9</th>\n",
       "      <td>2007</td>\n",
       "      <td>1</td>\n",
       "      <td>Mercedes-Benz</td>\n",
       "      <td>362</td>\n",
       "      <td>2.9</td>\n",
       "    </tr>\n",
       "  </tbody>\n",
       "</table>\n",
       "</div>"
      ],
      "text/plain": [
       "   Year  Month           Make  Quantity   Pct\n",
       "0  2007      1         Toyota      2884  22.7\n",
       "1  2007      1     Volkswagen      2521  19.9\n",
       "2  2007      1        Peugeot      1029   8.1\n",
       "3  2007      1           Ford       870   6.9\n",
       "4  2007      1          Volvo       693   5.5\n",
       "5  2007      1          Skoda       665   5.2\n",
       "6  2007      1           Opel       622   4.9\n",
       "7  2007      1           Audi       599   4.7\n",
       "8  2007      1          Honda       423   3.3\n",
       "9  2007      1  Mercedes-Benz       362   2.9"
      ]
     },
     "execution_count": 7,
     "metadata": {},
     "output_type": "execute_result"
    }
   ],
   "source": [
    "df.head(10)"
   ]
  },
  {
   "cell_type": "markdown",
   "id": "7b8d12ca",
   "metadata": {},
   "source": [
    "## Bar chart"
   ]
  },
  {
   "cell_type": "code",
   "execution_count": 10,
   "id": "ff7e20f7",
   "metadata": {},
   "outputs": [
    {
     "data": {
      "image/png": "[encoded data removed]",
      "text/plain": [
       "<Figure size 640x480 with 1 Axes>"
      ]
     },
     "metadata": {},
     "output_type": "display_data"
    }
   ],
   "source": [
    "# using dataframes plot method which is a wrapper for matplotlib\n",
    "ax = df_quantity_make.plot(kind=\"bar\", x=\"Make\", y=\"Quantity\", title = \"Cars sold in Norway\");"
   ]
  },
  {
   "cell_type": "markdown",
   "id": "ff5f33fc",
   "metadata": {},
   "source": [
    "Plot top 5 most popular brands"
   ]
  },
  {
   "cell_type": "code",
   "execution_count": null,
   "id": "ecba0006",
   "metadata": {},
   "outputs": [],
   "source": [
    "df_quantity_brand.pl.head(kind = \"bar\", x = \"Brand\", y = \"Quantity\")"
   ]
  },
  {
   "cell_type": "code",
   "execution_count": null,
   "id": "e2bf3a73",
   "metadata": {},
   "outputs": [],
   "source": [
    "df_quantity_brand.pl.iloc[3:5].plot(kind = \"bar\", x = \"Brand\", y = \"Quantity\")"
   ]
  },
  {
   "cell_type": "markdown",
   "id": "adf528fa",
   "metadata": {},
   "source": [
    "## matplotlib bar\n",
    "\n",
    "### second iteration\n",
    "#### Here we use matplotlib directly instead of dataframe plot, but the same results could be achieved using dataframe plot. Some modifications have been made\n",
    "- picked out top 10 most sold cars to visualize\n",
    "- wider figure size to fit the brand names\n",
    "- added title, xlabel and ylabel"
   ]
  },
  {
   "cell_type": "code",
   "execution_count": 12,
   "id": "c115ed02",
   "metadata": {},
   "outputs": [
    {
     "data": {
      "image/png": "[encoded data removed]",
      "text/plain": [
       "<Figure size 1200x600 with 1 Axes>"
      ]
     },
     "metadata": {},
     "output_type": "display_data"
    }
   ],
   "source": [
    "import matplotlib.pyplot as plt\n",
    "\n",
    "\n",
    "def top_ten_bar():\n",
    "    df_quantity_make_top_10 = df_quantity_make.iloc[:10]\n",
    "\n",
    "    fig, ax = plt.subplots(figsize=(12, 6))\n",
    "\n",
    "\n",
    "    ax.bar(\n",
    "        x=df_quantity_make_top_10[\"Make\"],\n",
    "        height=df_quantity_make_top_10[\"Quantity\"],\n",
    "        width=0.6,\n",
    "    )\n",
    "\n",
    "    ax.set(\n",
    "        title=\"Number of cars from top 10 most sold brands in Norway 2007-2017\",\n",
    "        xlabel=\"Car brand\",\n",
    "        ylabel=\"Number of cars\",\n",
    "    )\n",
    "\n",
    "    return fig, ax\n",
    "\n",
    "fig, ax = top_ten_bar();\n",
    "fig.tight_layout()\n",
    "fig.savefig(\"figures/bars_top_10.png\")"
   ]
  },
  {
   "cell_type": "code",
   "execution_count": 14,
   "id": "4b0100d0",
   "metadata": {},
   "outputs": [
    {
     "data": {
      "text/html": [
       "<div>\n",
       "<style scoped>\n",
       "    .dataframe tbody tr th:only-of-type {\n",
       "        vertical-align: middle;\n",
       "    }\n",
       "\n",
       "    .dataframe tbody tr th {\n",
       "        vertical-align: top;\n",
       "    }\n",
       "\n",
       "    .dataframe thead th {\n",
       "        text-align: right;\n",
       "    }\n",
       "</style>\n",
       "<table border=\"1\" class=\"dataframe\">\n",
       "  <thead>\n",
       "    <tr style=\"text-align: right;\">\n",
       "      <th>Make</th>\n",
       "      <th>Toyota</th>\n",
       "      <th>Volkswagen</th>\n",
       "      <th>Volvo</th>\n",
       "    </tr>\n",
       "    <tr>\n",
       "      <th>date</th>\n",
       "      <th></th>\n",
       "      <th></th>\n",
       "      <th></th>\n",
       "    </tr>\n",
       "  </thead>\n",
       "  <tbody>\n",
       "    <tr>\n",
       "      <th>2007-01-01</th>\n",
       "      <td>2884.0</td>\n",
       "      <td>2521.0</td>\n",
       "      <td>693.0</td>\n",
       "    </tr>\n",
       "    <tr>\n",
       "      <th>2007-02-01</th>\n",
       "      <td>1885.0</td>\n",
       "      <td>1517.0</td>\n",
       "      <td>570.0</td>\n",
       "    </tr>\n",
       "    <tr>\n",
       "      <th>2007-03-01</th>\n",
       "      <td>1833.0</td>\n",
       "      <td>1428.0</td>\n",
       "      <td>656.0</td>\n",
       "    </tr>\n",
       "    <tr>\n",
       "      <th>2007-04-01</th>\n",
       "      <td>1300.0</td>\n",
       "      <td>1257.0</td>\n",
       "      <td>587.0</td>\n",
       "    </tr>\n",
       "    <tr>\n",
       "      <th>2007-05-01</th>\n",
       "      <td>1866.0</td>\n",
       "      <td>1934.0</td>\n",
       "      <td>805.0</td>\n",
       "    </tr>\n",
       "  </tbody>\n",
       "</table>\n",
       "</div>"
      ],
      "text/plain": [
       "Make        Toyota  Volkswagen  Volvo\n",
       "date                                 \n",
       "2007-01-01  2884.0      2521.0  693.0\n",
       "2007-02-01  1885.0      1517.0  570.0\n",
       "2007-03-01  1833.0      1428.0  656.0\n",
       "2007-04-01  1300.0      1257.0  587.0\n",
       "2007-05-01  1866.0      1934.0  805.0"
      ]
     },
     "execution_count": 14,
     "metadata": {},
     "output_type": "execute_result"
    }
   ],
   "source": [
    "df_month_make = duckdb.query(\n",
    "    \"\"\"\n",
    "            SELECT year || '-' || LPAD(CAST(month AS VARCHAR),2,'0') AS date, \n",
    "                    make, SUM(quantity) AS Quantity FROM df\n",
    "            WHERE make IN ('Volvo', 'Volkswagen', 'Toyota')\n",
    "            GROUP BY year, month, make \n",
    "            ORDER BY year, month\n",
    "    \"\"\"\n",
    ").df()\n",
    "\n",
    "# df_month_make.plot(kind = \"bar\", x = \"date\", y = \"quantity\" )\n",
    "# df_month_make\n",
    "df_month_make[\"date\"] = pd.to_datetime(df_month_make[\"date\"], format=\"%Y-%m\")\n",
    "df_month_make_pivot = df_month_make.pivot(index='date', columns='Make', values='Quantity').fillna(0)\n",
    "\n",
    "df_month_make_pivot.head()"
   ]
  },
  {
   "cell_type": "code",
   "execution_count": 15,
   "id": "c0a65def",
   "metadata": {},
   "outputs": [
    {
     "data": {
      "text/plain": [
       "Index(['January', 'February', 'March', 'April', 'May', 'June', 'July',\n",
       "       'August', 'September', 'October', 'November', 'December'],\n",
       "      dtype='object', name='date')"
      ]
     },
     "execution_count": 15,
     "metadata": {},
     "output_type": "execute_result"
    }
   ],
   "source": [
    "months = df_month_make_pivot.loc[\"2016\"].index.month_name()\n",
    "months"
   ]
  },
  {
   "cell_type": "code",
   "execution_count": 16,
   "id": "7a65d2d7",
   "metadata": {},
   "outputs": [
    {
     "data": {
      "text/plain": [
       "[Text(0.5, 1.0, 'Number of cars sold from Toyota, Volkswagen and Volvo in 2016 in Norway'),\n",
       " Text(0.5, 0, 'Month'),\n",
       " Text(0, 0.5, 'Number cars')]"
      ]
     },
     "execution_count": 16,
     "metadata": {},
     "output_type": "execute_result"
    },
    {
     "data": {
      "image/png": "[encoded data removed]",
      "text/plain": [
       "<Figure size 1600x600 with 1 Axes>"
      ]
     },
     "metadata": {},
     "output_type": "display_data"
    }
   ],
   "source": [
    "ax = df_month_make_pivot.loc[\"2016\"].plot(kind=\"bar\", figsize=(16, 6))\n",
    "ax.set_xticklabels(months, rotation=0)\n",
    "ax.set(\n",
    "    title=\"Number of cars sold from Toyota, Volkswagen and Volvo in 2016 in Norway\",\n",
    "    xlabel=\"Month\",\n",
    "    ylabel=\"Number cars\",\n",
    ")"
   ]
  },
  {
   "cell_type": "code",
   "execution_count": null,
   "id": "d49b9d61",
   "metadata": {},
   "outputs": [],
   "source": [
    "df_quantity_brand_top10[\"Quantity\"]"
   ]
  },
  {
   "cell_type": "markdown",
   "id": "28430cdf",
   "metadata": {},
   "source": [
    "## Line chart"
   ]
  },
  {
   "cell_type": "code",
   "execution_count": 17,
   "id": "746f5856",
   "metadata": {},
   "outputs": [
    {
     "data": {
      "text/html": [
       "<div>\n",
       "<style scoped>\n",
       "    .dataframe tbody tr th:only-of-type {\n",
       "        vertical-align: middle;\n",
       "    }\n",
       "\n",
       "    .dataframe tbody tr th {\n",
       "        vertical-align: top;\n",
       "    }\n",
       "\n",
       "    .dataframe thead th {\n",
       "        text-align: right;\n",
       "    }\n",
       "</style>\n",
       "<table border=\"1\" class=\"dataframe\">\n",
       "  <thead>\n",
       "    <tr style=\"text-align: right;\">\n",
       "      <th></th>\n",
       "      <th>Quantity</th>\n",
       "    </tr>\n",
       "    <tr>\n",
       "      <th>Year</th>\n",
       "      <th></th>\n",
       "    </tr>\n",
       "  </thead>\n",
       "  <tbody>\n",
       "    <tr>\n",
       "      <th>2007</th>\n",
       "      <td>129195.0</td>\n",
       "    </tr>\n",
       "    <tr>\n",
       "      <th>2008</th>\n",
       "      <td>110617.0</td>\n",
       "    </tr>\n",
       "    <tr>\n",
       "      <th>2009</th>\n",
       "      <td>98675.0</td>\n",
       "    </tr>\n",
       "    <tr>\n",
       "      <th>2010</th>\n",
       "      <td>127754.0</td>\n",
       "    </tr>\n",
       "    <tr>\n",
       "      <th>2011</th>\n",
       "      <td>138345.0</td>\n",
       "    </tr>\n",
       "    <tr>\n",
       "      <th>2012</th>\n",
       "      <td>137967.0</td>\n",
       "    </tr>\n",
       "    <tr>\n",
       "      <th>2013</th>\n",
       "      <td>142151.0</td>\n",
       "    </tr>\n",
       "    <tr>\n",
       "      <th>2014</th>\n",
       "      <td>144202.0</td>\n",
       "    </tr>\n",
       "    <tr>\n",
       "      <th>2015</th>\n",
       "      <td>150686.0</td>\n",
       "    </tr>\n",
       "    <tr>\n",
       "      <th>2016</th>\n",
       "      <td>154603.0</td>\n",
       "    </tr>\n",
       "    <tr>\n",
       "      <th>2017</th>\n",
       "      <td>13055.0</td>\n",
       "    </tr>\n",
       "  </tbody>\n",
       "</table>\n",
       "</div>"
      ],
      "text/plain": [
       "      Quantity\n",
       "Year          \n",
       "2007  129195.0\n",
       "2008  110617.0\n",
       "2009   98675.0\n",
       "2010  127754.0\n",
       "2011  138345.0\n",
       "2012  137967.0\n",
       "2013  142151.0\n",
       "2014  144202.0\n",
       "2015  150686.0\n",
       "2016  154603.0\n",
       "2017   13055.0"
      ]
     },
     "execution_count": 17,
     "metadata": {},
     "output_type": "execute_result"
    }
   ],
   "source": [
    "df_quantity_year = duckdb.query(\"\"\"\n",
    "    SELECT \n",
    "        year, \n",
    "        SUM(quantity) AS Quantity\n",
    "    FROM df\n",
    "    GROUP BY year\n",
    "    ORDER BY\n",
    "        year\n",
    "\"\"\").df().set_index(\"Year\")\n",
    "\n",
    "df_quantity_year"
   ]
  },
  {
   "cell_type": "code",
   "execution_count": null,
   "id": "c004e762",
   "metadata": {},
   "outputs": [],
   "source": [
    "df.tail()"
   ]
  },
  {
   "cell_type": "code",
   "execution_count": null,
   "id": "5d129e85",
   "metadata": {},
   "outputs": [],
   "source": [
    "df_quantity_year.iloc[:-1].plot()"
   ]
  },
  {
   "cell_type": "code",
   "execution_count": null,
   "id": "aba136dd",
   "metadata": {},
   "outputs": [],
   "source": [
    "df_quantity_year.iloc[:-1].plot(title = \"Car sales in Noway between 2007-2016\", xlabel = \"Year\", ylabel = \"Number cars sold\", style=\"--0\", linewidth=2)\n",
    "\n",
    "ax.legend().remove()\n",
    "fig = ax.get_figure()\n",
    "fig.tight_layout()\n",
    "\n",
    "fig.savefig(\"figures/car_sales_wearly_lin.png\")"
   ]
  }
 ],
 "metadata": {
  "kernelspec": {
   "display_name": ".venv",
   "language": "python",
   "name": "python3"
  },
  "language_info": {
   "codemirror_mode": {
    "name": "ipython",
    "version": 3
   },
   "file_extension": ".py",
   "mimetype": "text/x-python",
   "name": "python",
   "nbconvert_exporter": "python",
   "pygments_lexer": "ipython3",
   "version": "3.12.5"
  }
 },
 "nbformat": 4,
 "nbformat_minor": 5
}
