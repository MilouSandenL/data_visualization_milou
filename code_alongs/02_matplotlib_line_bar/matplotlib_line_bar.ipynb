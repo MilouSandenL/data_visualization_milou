{
 "cells": [
  {
   "cell_type": "code",
   "execution_count": null,
   "id": "3c294298",
   "metadata": {},
   "outputs": [],
   "source": [
    "import pandas as pd \n",
    "\n",
    "df = pd.read\n"
   ]
  },
  {
   "cell_type": "markdown",
   "id": "eccfa09e",
   "metadata": {},
   "source": [
    "## EDA- Exploratory"
   ]
  },
  {
   "cell_type": "code",
   "execution_count": null,
   "id": "1dfc046d",
   "metadata": {},
   "outputs": [],
   "source": [
    "df.shape()"
   ]
  },
  {
   "cell_type": "code",
   "execution_count": null,
   "id": "eaf9a4af",
   "metadata": {},
   "outputs": [],
   "source": [
    "df.info()"
   ]
  },
  {
   "cell_type": "code",
   "execution_count": null,
   "id": "4e260473",
   "metadata": {},
   "outputs": [],
   "source": [
    "df.discribe().T"
   ]
  },
  {
   "cell_type": "code",
   "execution_count": null,
   "id": "449a1fcd",
   "metadata": {},
   "outputs": [],
   "source": [
    "df.head(10)"
   ]
  },
  {
   "cell_type": "code",
   "execution_count": null,
   "id": "6673cfe9",
   "metadata": {},
   "outputs": [],
   "source": [
    "import duckdb\n",
    "\n",
    "# brand and total quantity for each brand\n",
    "\n",
    "duckdb.query(\"\"\"\n",
    "    SELECT\n",
    "        make AS Brand,\n",
    "        SUM(quantity) AS Quantity\n",
    "    FROM df\n",
    "    GROUP BY\n",
    "        make\n",
    "    ORDER BY\n",
    "        quantity\n",
    "    DESC\n",
    "\"\"\").df()\n",
    "\n",
    "df_quantity_brand.head()"
   ]
  },
  {
   "cell_type": "markdown",
   "id": "7b8d12ca",
   "metadata": {},
   "source": [
    "## Bar chart"
   ]
  },
  {
   "cell_type": "code",
   "execution_count": null,
   "id": "ff7e20f7",
   "metadata": {},
   "outputs": [],
   "source": [
    "df_quantity_brand.plot(kind = \"bar\", x = \"Brand\", y = \"Quantity\")"
   ]
  },
  {
   "cell_type": "markdown",
   "id": "ff5f33fc",
   "metadata": {},
   "source": [
    "Plot top 5 most popular brands"
   ]
  },
  {
   "cell_type": "code",
   "execution_count": null,
   "id": "ecba0006",
   "metadata": {},
   "outputs": [],
   "source": [
    "df_quantity_brand.pl.head(kind = \"bar\", x = \"Brand\", y = \"Quantity\")"
   ]
  },
  {
   "cell_type": "code",
   "execution_count": null,
   "id": "e2bf3a73",
   "metadata": {},
   "outputs": [],
   "source": [
    "df_quantity_brand.pl.iloc[3:5].plot(kind = \"bar\", x = \"Brand\", y = \"Quantity\")"
   ]
  },
  {
   "cell_type": "markdown",
   "id": "adf528fa",
   "metadata": {},
   "source": [
    "## matplotlib bar"
   ]
  },
  {
   "cell_type": "code",
   "execution_count": null,
   "id": "c115ed02",
   "metadata": {},
   "outputs": [],
   "source": [
    "import matplotlib.pyplot as plt\n",
    "\n",
    "df_quantity_brand_top10 = df_quantity_brand.pl.iloc[:10]\n",
    "\n",
    "fig, ax = plt.subplot(figaize = (12,6))\n",
    "\n",
    "ax.bar(\n",
    "    x = df_quantity_brand_top10[\"Brand\"],\n",
    "    height = df_quantity_brand_top10[\"Quantity\"],\n",
    "    width=0.6,\n",
    ")\n",
    "\n",
    "ax.set(\n",
    "    title=\"Number of cars from top 10 most sold brands in Norway 2007-2017\",\n",
    "    xlabel=\"Car brand\",\n",
    "    ylabel=\"Number of cars\",\n",
    ")\n",
    "\n",
    "fig.typelayout()\n",
    "\n",
    "fig.savefig(\"figures/bars_top_10_cars.png\")"
   ]
  },
  {
   "cell_type": "code",
   "execution_count": null,
   "id": "d49b9d61",
   "metadata": {},
   "outputs": [],
   "source": [
    "df_quantity_brand_top10[\"Quantity\"]"
   ]
  },
  {
   "cell_type": "markdown",
   "id": "28430cdf",
   "metadata": {},
   "source": [
    "## Line chart"
   ]
  },
  {
   "cell_type": "code",
   "execution_count": null,
   "id": "746f5856",
   "metadata": {},
   "outputs": [],
   "source": [
    "df_quantity_year = duckdb.query(\"\"\"\n",
    "    SELECT \n",
    "        year, \n",
    "        SUM(quantity) AS Quantity\n",
    "    FROM df\n",
    "    GROUP BY year\n",
    "    ORDER BY\n",
    "        year\n",
    "\"\"\").df().set_index(\"Year\")\n",
    "\n",
    "df_quantity_year"
   ]
  },
  {
   "cell_type": "code",
   "execution_count": null,
   "id": "c004e762",
   "metadata": {},
   "outputs": [],
   "source": [
    "df.tail()"
   ]
  },
  {
   "cell_type": "code",
   "execution_count": null,
   "id": "5d129e85",
   "metadata": {},
   "outputs": [],
   "source": [
    "df_quantity_year.iloc[:-1].plot()"
   ]
  },
  {
   "cell_type": "code",
   "execution_count": null,
   "id": "aba136dd",
   "metadata": {},
   "outputs": [],
   "source": [
    "df_quantity_year.iloc[:-1].plot(title = \"Car sales in Noway between 2007-2016\", xlabel = \"Year\", ylabel = \"Number cars sold\", style=\"--0\", linewidth=2)\n",
    "\n",
    "ax.legend().remove()\n",
    "fig = ax.get_figure()\n",
    "fig.tight_layout()\n",
    "\n",
    "fig.savefig(\"figures/car_sales_wearly_lin.png\")"
   ]
  }
 ],
 "metadata": {
  "kernelspec": {
   "display_name": ".venv",
   "language": "python",
   "name": "python3"
  },
  "language_info": {
   "codemirror_mode": {
    "name": "ipython",
    "version": 3
   },
   "file_extension": ".py",
   "mimetype": "text/x-python",
   "name": "python",
   "nbconvert_exporter": "python",
   "pygments_lexer": "ipython3",
   "version": "3.12.5"
  }
 },
 "nbformat": 4,
 "nbformat_minor": 5
}
