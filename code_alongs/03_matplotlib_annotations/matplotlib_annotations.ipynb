{
 "cells": [
  {
   "cell_type": "markdown",
   "id": "234a88af",
   "metadata": {},
   "source": [
    "# Matplotlib annotations"
   ]
  },
  {
   "cell_type": "code",
   "execution_count": 9,
   "id": "8a361a40",
   "metadata": {},
   "outputs": [
    {
     "ename": "ParserError",
     "evalue": "Error tokenizing data. C error: Expected 1 fields in line 10, saw 50\n",
     "output_type": "error",
     "traceback": [
      "\u001b[31m---------------------------------------------------------------------------\u001b[39m",
      "\u001b[31mParserError\u001b[39m                               Traceback (most recent call last)",
      "\u001b[36mCell\u001b[39m\u001b[36m \u001b[39m\u001b[32mIn[9]\u001b[39m\u001b[32m, line 4\u001b[39m\n\u001b[32m      1\u001b[39m \u001b[38;5;28;01mimport\u001b[39;00m\u001b[38;5;250m \u001b[39m\u001b[34;01mpandas\u001b[39;00m\u001b[38;5;250m \u001b[39m\u001b[38;5;28;01mas\u001b[39;00m\u001b[38;5;250m \u001b[39m\u001b[34;01mpd\u001b[39;00m\n\u001b[32m      2\u001b[39m \u001b[38;5;28;01mimport\u001b[39;00m\u001b[38;5;250m \u001b[39m\u001b[34;01mduckdb\u001b[39;00m\n\u001b[32m----> \u001b[39m\u001b[32m4\u001b[39m df = \u001b[43mpd\u001b[49m\u001b[43m.\u001b[49m\u001b[43mread_csv\u001b[49m\u001b[43m(\u001b[49m\u001b[33;43m\"\u001b[39;49m\u001b[33;43mdata/1900-census-immigrant-pop-metro.csv\u001b[39;49m\u001b[33;43m\"\u001b[39;49m\u001b[43m)\u001b[49m\n\u001b[32m      5\u001b[39m df\n",
      "\u001b[36mFile \u001b[39m\u001b[32mc:\\Users\\milou\\Documents\\Git\\data_visualization_milou\\.venv\\Lib\\site-packages\\pandas\\io\\parsers\\readers.py:1026\u001b[39m, in \u001b[36mread_csv\u001b[39m\u001b[34m(filepath_or_buffer, sep, delimiter, header, names, index_col, usecols, dtype, engine, converters, true_values, false_values, skipinitialspace, skiprows, skipfooter, nrows, na_values, keep_default_na, na_filter, verbose, skip_blank_lines, parse_dates, infer_datetime_format, keep_date_col, date_parser, date_format, dayfirst, cache_dates, iterator, chunksize, compression, thousands, decimal, lineterminator, quotechar, quoting, doublequote, escapechar, comment, encoding, encoding_errors, dialect, on_bad_lines, delim_whitespace, low_memory, memory_map, float_precision, storage_options, dtype_backend)\u001b[39m\n\u001b[32m   1013\u001b[39m kwds_defaults = _refine_defaults_read(\n\u001b[32m   1014\u001b[39m     dialect,\n\u001b[32m   1015\u001b[39m     delimiter,\n\u001b[32m   (...)\u001b[39m\u001b[32m   1022\u001b[39m     dtype_backend=dtype_backend,\n\u001b[32m   1023\u001b[39m )\n\u001b[32m   1024\u001b[39m kwds.update(kwds_defaults)\n\u001b[32m-> \u001b[39m\u001b[32m1026\u001b[39m \u001b[38;5;28;01mreturn\u001b[39;00m \u001b[43m_read\u001b[49m\u001b[43m(\u001b[49m\u001b[43mfilepath_or_buffer\u001b[49m\u001b[43m,\u001b[49m\u001b[43m \u001b[49m\u001b[43mkwds\u001b[49m\u001b[43m)\u001b[49m\n",
      "\u001b[36mFile \u001b[39m\u001b[32mc:\\Users\\milou\\Documents\\Git\\data_visualization_milou\\.venv\\Lib\\site-packages\\pandas\\io\\parsers\\readers.py:626\u001b[39m, in \u001b[36m_read\u001b[39m\u001b[34m(filepath_or_buffer, kwds)\u001b[39m\n\u001b[32m    623\u001b[39m     \u001b[38;5;28;01mreturn\u001b[39;00m parser\n\u001b[32m    625\u001b[39m \u001b[38;5;28;01mwith\u001b[39;00m parser:\n\u001b[32m--> \u001b[39m\u001b[32m626\u001b[39m     \u001b[38;5;28;01mreturn\u001b[39;00m \u001b[43mparser\u001b[49m\u001b[43m.\u001b[49m\u001b[43mread\u001b[49m\u001b[43m(\u001b[49m\u001b[43mnrows\u001b[49m\u001b[43m)\u001b[49m\n",
      "\u001b[36mFile \u001b[39m\u001b[32mc:\\Users\\milou\\Documents\\Git\\data_visualization_milou\\.venv\\Lib\\site-packages\\pandas\\io\\parsers\\readers.py:1923\u001b[39m, in \u001b[36mTextFileReader.read\u001b[39m\u001b[34m(self, nrows)\u001b[39m\n\u001b[32m   1916\u001b[39m nrows = validate_integer(\u001b[33m\"\u001b[39m\u001b[33mnrows\u001b[39m\u001b[33m\"\u001b[39m, nrows)\n\u001b[32m   1917\u001b[39m \u001b[38;5;28;01mtry\u001b[39;00m:\n\u001b[32m   1918\u001b[39m     \u001b[38;5;66;03m# error: \"ParserBase\" has no attribute \"read\"\u001b[39;00m\n\u001b[32m   1919\u001b[39m     (\n\u001b[32m   1920\u001b[39m         index,\n\u001b[32m   1921\u001b[39m         columns,\n\u001b[32m   1922\u001b[39m         col_dict,\n\u001b[32m-> \u001b[39m\u001b[32m1923\u001b[39m     ) = \u001b[38;5;28;43mself\u001b[39;49m\u001b[43m.\u001b[49m\u001b[43m_engine\u001b[49m\u001b[43m.\u001b[49m\u001b[43mread\u001b[49m\u001b[43m(\u001b[49m\u001b[43m  \u001b[49m\u001b[38;5;66;43;03m# type: ignore[attr-defined]\u001b[39;49;00m\n\u001b[32m   1924\u001b[39m \u001b[43m        \u001b[49m\u001b[43mnrows\u001b[49m\n\u001b[32m   1925\u001b[39m \u001b[43m    \u001b[49m\u001b[43m)\u001b[49m\n\u001b[32m   1926\u001b[39m \u001b[38;5;28;01mexcept\u001b[39;00m \u001b[38;5;167;01mException\u001b[39;00m:\n\u001b[32m   1927\u001b[39m     \u001b[38;5;28mself\u001b[39m.close()\n",
      "\u001b[36mFile \u001b[39m\u001b[32mc:\\Users\\milou\\Documents\\Git\\data_visualization_milou\\.venv\\Lib\\site-packages\\pandas\\io\\parsers\\c_parser_wrapper.py:234\u001b[39m, in \u001b[36mCParserWrapper.read\u001b[39m\u001b[34m(self, nrows)\u001b[39m\n\u001b[32m    232\u001b[39m \u001b[38;5;28;01mtry\u001b[39;00m:\n\u001b[32m    233\u001b[39m     \u001b[38;5;28;01mif\u001b[39;00m \u001b[38;5;28mself\u001b[39m.low_memory:\n\u001b[32m--> \u001b[39m\u001b[32m234\u001b[39m         chunks = \u001b[38;5;28;43mself\u001b[39;49m\u001b[43m.\u001b[49m\u001b[43m_reader\u001b[49m\u001b[43m.\u001b[49m\u001b[43mread_low_memory\u001b[49m\u001b[43m(\u001b[49m\u001b[43mnrows\u001b[49m\u001b[43m)\u001b[49m\n\u001b[32m    235\u001b[39m         \u001b[38;5;66;03m# destructive to chunks\u001b[39;00m\n\u001b[32m    236\u001b[39m         data = _concatenate_chunks(chunks)\n",
      "\u001b[36mFile \u001b[39m\u001b[32mparsers.pyx:838\u001b[39m, in \u001b[36mpandas._libs.parsers.TextReader.read_low_memory\u001b[39m\u001b[34m()\u001b[39m\n",
      "\u001b[36mFile \u001b[39m\u001b[32mparsers.pyx:905\u001b[39m, in \u001b[36mpandas._libs.parsers.TextReader._read_rows\u001b[39m\u001b[34m()\u001b[39m\n",
      "\u001b[36mFile \u001b[39m\u001b[32mparsers.pyx:874\u001b[39m, in \u001b[36mpandas._libs.parsers.TextReader._tokenize_rows\u001b[39m\u001b[34m()\u001b[39m\n",
      "\u001b[36mFile \u001b[39m\u001b[32mparsers.pyx:891\u001b[39m, in \u001b[36mpandas._libs.parsers.TextReader._check_tokenize_status\u001b[39m\u001b[34m()\u001b[39m\n",
      "\u001b[36mFile \u001b[39m\u001b[32mparsers.pyx:2061\u001b[39m, in \u001b[36mpandas._libs.parsers.raise_parser_error\u001b[39m\u001b[34m()\u001b[39m\n",
      "\u001b[31mParserError\u001b[39m: Error tokenizing data. C error: Expected 1 fields in line 10, saw 50\n"
     ]
    }
   ],
   "source": [
    "import pandas as pd\n",
    "import duckdb\n",
    "\n",
    "df = pd.read_csv(\"data/1900-census-immigrant-pop-metro.csv\")\n",
    "df"
   ]
  },
  {
   "cell_type": "code",
   "execution_count": null,
   "id": "b6b3b5bf",
   "metadata": {},
   "outputs": [],
   "source": [
    "df,info()"
   ]
  },
  {
   "cell_type": "code",
   "execution_count": null,
   "id": "bccc8c97",
   "metadata": {},
   "outputs": [],
   "source": [
    "df[\"Total foreign born\"].iloc[0]"
   ]
  },
  {
   "cell_type": "code",
   "execution_count": null,
   "id": "d7e26e99",
   "metadata": {},
   "outputs": [],
   "source": [
    "columns = [\"Sweden\", \"Norway\", \"Finland\", \"Danmark\", \"Total foreign born\"]\n",
    "df_nordic = df[columns]\n",
    "df_nordic.head()"
   ]
  },
  {
   "cell_type": "code",
   "execution_count": null,
   "id": "f2abab22",
   "metadata": {},
   "outputs": [],
   "source": [
    "df_nordic = df_nordic.fillna(\"0\")"
   ]
  },
  {
   "cell_type": "code",
   "execution_count": null,
   "id": "945003a0",
   "metadata": {},
   "outputs": [],
   "source": [
    "for columns in columns:\n",
    "    df.loc[:, column] = df_nordic[columns].str.replace(\",\", \"\").astype(int)\n",
    "\n",
    "df.head(9)"
   ]
  },
  {
   "cell_type": "code",
   "execution_count": null,
   "id": "07796c93",
   "metadata": {},
   "outputs": [],
   "source": [
    "df[columns].info()"
   ]
  },
  {
   "cell_type": "code",
   "execution_count": null,
   "id": "469920b5",
   "metadata": {},
   "outputs": [],
   "source": [
    "df_nordic = duckdb.query(\"\"\"--sql\n",
    "    WITH nordic AS (\n",
    "        FROM df\n",
    "            SELECT\n",
    "                state,\n",
    "                SUM(\"Total foreign bord\") As \"Total foreigners\"\n",
    "                SUM(\"Sweden\") AS Swedes,\n",
    "                SUM(\"Norway\") As Norwegians,\n",
    "                Sum(\"Danmark\") AS Danish,\n",
    "                SUM(\"finland\") As Finnish,\n",
    "            GROUP BY \n",
    "                state\n",
    "        \n",
    "    )\n",
    "    FROM nordic n\n",
    "    SELECT *, n.swedes + n.norweigans + n.danish + n.finnish AS Nordic\n",
    "    ORDER BY\n",
    "        nordic\n",
    "    DESC\n",
    "\"\"\").df()\n",
    "\n",
    "df_nordic.head()"
   ]
  },
  {
   "cell_type": "markdown",
   "id": "e581e545",
   "metadata": {},
   "source": [
    "TODO:\n",
    "- more visualixations on nordic\n",
    "- more visualizations on total foreigners\n",
    "- ex bar charts for different states\n",
    "- compere nordic to total foreigners"
   ]
  },
  {
   "cell_type": "code",
   "execution_count": null,
   "id": "6cc09fd4",
   "metadata": {},
   "outputs": [],
   "source": [
    "df_nordic.shape"
   ]
  },
  {
   "cell_type": "code",
   "execution_count": null,
   "id": "d04bb8ae",
   "metadata": {},
   "outputs": [],
   "source": [
    "import matplotlib.pyplot as plt\n",
    "\n",
    "top_3_nordic = (\n",
    "    df_nordic.drop([\"Total foreigners\", \"Nordic\"], axis=1).set_index=(\"State\").iloc[:3]\n",
    ")\n",
    "top_3_nordic"
   ]
  },
  {
   "cell_type": "code",
   "execution_count": null,
   "id": "ac9f6fe2",
   "metadata": {},
   "outputs": [],
   "source": [
    "def nordic_plot():\n",
    "    ax = top_3_nordic.plot(kind=\"bar\", figsize=(12,6))\n",
    "    ax.set_xticklables(top_3_nordic.index, rotation = 0)\n",
    "\n",
    "    fig = ax.get_figure()\n",
    "\n",
    "    return fig, ax\n",
    "\n",
    "nordic_plot()"
   ]
  },
  {
   "cell_type": "code",
   "execution_count": null,
   "id": "72852b6d",
   "metadata": {},
   "outputs": [],
   "source": [
    "fig, ax = nordic_plot()\n",
    "\n",
    "ax.containers"
   ]
  },
  {
   "cell_type": "code",
   "execution_count": null,
   "id": "e619fd30",
   "metadata": {},
   "outputs": [],
   "source": [
    "ax.containers[0]"
   ]
  },
  {
   "cell_type": "code",
   "execution_count": null,
   "id": "0967df49",
   "metadata": {},
   "outputs": [],
   "source": [
    "ax.containers[0][1].get_height(), ax.containers[0][1].get_x()"
   ]
  },
  {
   "cell_type": "markdown",
   "id": "de94c256",
   "metadata": {},
   "source": [
    "## Annotate"
   ]
  },
  {
   "cell_type": "code",
   "execution_count": null,
   "id": "9edbaed0",
   "metadata": {},
   "outputs": [],
   "source": [
    "fig, ax = nordic_plot()\n",
    "\n",
    "arrowprops = dict(arrowstyle = \"->\", linewidth=2, connectionstyle=\"arc3, rad=.3\")\n",
    "ax.annotate(text = \"Swedes\", xy=(o.8, 35000), arrowprops=arrowprops, xytext=(.8, 42000))"
   ]
  },
  {
   "cell_type": "code",
   "execution_count": null,
   "id": "be282d4a",
   "metadata": {},
   "outputs": [],
   "source": [
    "fig, ax = nordic_plot()\n",
    "\n",
    "# tuple unpacking of ax.containers that is a list of four barcontainers, which contains 3 artists each\n",
    "swede_bars, norweigan_bars, danish_bars, finnish_bars = ax.containers\n",
    "def annotate_nordic(bar_artist, text, x_offset, y_offset):\n",
    "    \n",
    "    xy = (bar_artist.get_x(), bar_artist.get_heigt())\n",
    "    \n",
    "    #ternary if-statement \n",
    "    rad = .3 if xy[0] > 0 else -.3\n",
    "    \n",
    "    arrowprops = dict(arrowstyle = \"->\", linewidth=2, connectionstyle=\"arc3, rad=.3\")\n",
    "    ax.annotate(text =text, xy=(xy[0] + .06, xy[1]), arrowprops=arrowprops, xytext=(xy[0] + x_offset, xy[1] + y_offset))\n",
    "    \n",
    "annotate_nordic(swede_bars[1], \"Swedes\", 0.05, 7000)\n",
    "annotate_nordic(norweigan_bars[0], \"Norwegians\", 0.01, 5000)"
   ]
  },
  {
   "cell_type": "markdown",
   "id": "c40c1dbc",
   "metadata": {},
   "source": [
    "TODO:\n",
    "- draw other annotations\n",
    "- remove legend\n",
    "- save the figure"
   ]
  },
  {
   "cell_type": "markdown",
   "id": "bc589f11",
   "metadata": {},
   "source": []
  }
 ],
 "metadata": {
  "kernelspec": {
   "display_name": ".venv",
   "language": "python",
   "name": "python3"
  },
  "language_info": {
   "codemirror_mode": {
    "name": "ipython",
    "version": 3
   },
   "file_extension": ".py",
   "mimetype": "text/x-python",
   "name": "python",
   "nbconvert_exporter": "python",
   "pygments_lexer": "ipython3",
   "version": "3.12.5"
  }
 },
 "nbformat": 4,
 "nbformat_minor": 5
}
