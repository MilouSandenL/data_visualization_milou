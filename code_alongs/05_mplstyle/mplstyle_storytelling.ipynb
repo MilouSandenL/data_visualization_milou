{
 "cells": [
  {
   "cell_type": "markdown",
   "id": "9b9680b3",
   "metadata": {},
   "source": [
    "# mplstyle and DRY for storytelling in matplotlib"
   ]
  },
  {
   "cell_type": "code",
   "execution_count": null,
   "id": "035ccab1",
   "metadata": {},
   "outputs": [],
   "source": [
    "import matplotlib.pyplot as plt\n",
    "import pandas as pd\n",
    "import duckdb \n",
    "\n",
    "# in python cript:\n",
    "# path(__file__).parent / \"style/base.mplstyle\"\n",
    "\n",
    "plt.style.use(\"styles/base.mplstyle\")\n",
    "\n",
    "df = pd.read_csv(\"data/jobs_in_data_2024.csv\")\n",
    "df"
   ]
  },
  {
   "cell_type": "code",
   "execution_count": null,
   "id": "0f2740b4",
   "metadata": {},
   "outputs": [],
   "source": [
    "df.shape"
   ]
  },
  {
   "cell_type": "code",
   "execution_count": null,
   "id": "436915f6",
   "metadata": {},
   "outputs": [],
   "source": [
    "df_job_categories = df[\"job_category\"].value_counts()\n",
    "df_job_categories"
   ]
  },
  {
   "cell_type": "code",
   "execution_count": null,
   "id": "3ddd9268",
   "metadata": {},
   "outputs": [],
   "source": [
    "type(df_job_categories)"
   ]
  },
  {
   "cell_type": "markdown",
   "id": "5f9e87e1",
   "metadata": {},
   "source": [
    "## Visualizations"
   ]
  },
  {
   "cell_type": "code",
   "execution_count": null,
   "id": "45897dd1",
   "metadata": {},
   "outputs": [],
   "source": [
    "ax = df_job_categories.plot(kind = \"barth\", title = \"Number jobs bby job category for data jobs in 2024\", xlabel = \"# OF JOBS\", ylabel = \"JOB CATEGORY\")\n",
    "\n",
    "ax.invert_yaxis()"
   ]
  }
 ],
 "metadata": {
  "kernelspec": {
   "display_name": ".venv",
   "language": "python",
   "name": "python3"
  },
  "language_info": {
   "codemirror_mode": {
    "name": "ipython",
    "version": 3
   },
   "file_extension": ".py",
   "mimetype": "text/x-python",
   "name": "python",
   "nbconvert_exporter": "python",
   "pygments_lexer": "ipython3",
   "version": "3.12.5"
  }
 },
 "nbformat": 4,
 "nbformat_minor": 5
}
